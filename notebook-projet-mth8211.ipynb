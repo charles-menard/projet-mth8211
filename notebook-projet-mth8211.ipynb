{
 "cells": [
  {
   "cell_type": "markdown",
   "id": "1ba301b3-a79d-4250-9e51-2427ad34ba28",
   "metadata": {},
   "source": [
    "# Question 7. Première implémentation"
   ]
  },
  {
   "cell_type": "code",
   "execution_count": null,
   "id": "5f29aa26-da6c-4b53-b43a-d88e51fc31a8",
   "metadata": {},
   "outputs": [],
   "source": [
    "using LinearAlgebra\n",
    "using SparseArrays\n",
    "using Printf\n",
    "using Test"
   ]
  },
  {
   "cell_type": "code",
   "execution_count": null,
   "id": "45607a53-1eab-4354-b65f-081cca10b0f7",
   "metadata": {},
   "outputs": [],
   "source": [
    "function test_least_square(f::Function, minimum_norm::Bool)\n",
    "    A_1 = [1. 2. 3.; 4. 5. 6.; 7. 8. 9.; 5. 7. 9.]\n",
    "    b_1 = ones(Float64, 4)\n",
    "    \n",
    "    x, _, _ = f(sparse(A_1), b_1)\n",
    "    x_baseline = A_1 \\ b_1\n",
    "\n",
    "    r = A_1 * x - b_1\n",
    "    r_baseline = A_1 * x_baseline - b_1\n",
    "    @test norm(r - r_baseline) ≈ 0.0 atol=1e-6   \n",
    "\n",
    "    if minimum_norm\n",
    "        @test norm(x - x_baseline) ≈ 0.0 atol=1e-6\n",
    "    end\n",
    "end"
   ]
  },
  {
   "cell_type": "code",
   "execution_count": null,
   "id": "f792492f-dba4-4790-8432-17591bea5f5a",
   "metadata": {},
   "outputs": [],
   "source": [
    "function golub_riley(A::SparseMatrixCSC{Float64}, b::Vector{Float64}, λ::Float64=0.1, ϵ::Float64=1e-4)\n",
    "    m, n = size(A)\n",
    "    x_k = zeros(Float64, n)\n",
    "    b_k = [b; zeros(n)]\n",
    "    A_augmented = sparse_vcat(A, sparse(λ * I, n, n))\n",
    "    QR_A_augmented = qr(A_augmented)\n",
    "\n",
    "    Δx_k = Vector{Float64}(undef, n)\n",
    "    while true\n",
    "        # On utilise \\ parce que ldiv!(Y, A, b) ne semble par être implanter pour\n",
    "        # la factorisation QR creuse\n",
    "        Δx_k = QR_A_augmented \\ b_k\n",
    "        x_k += Δx_k\n",
    "        b_k[1:m] = b - A * x_k\n",
    "        b_k[m+1:m+n] .= 0.0\n",
    "        if (norm(Δx_k) / norm(x_k)) ≤ ϵ\n",
    "            break\n",
    "        end\n",
    "    end\n",
    "    \n",
    "    return x_k, nnz(A), nnz(QR_A_augmented.R)\n",
    "end\n"
   ]
  },
  {
   "cell_type": "code",
   "execution_count": null,
   "id": "48573de9-5c68-4f94-a2aa-b59bae049eb3",
   "metadata": {},
   "outputs": [],
   "source": [
    "test_least_square(golub_riley, false)"
   ]
  },
  {
   "cell_type": "markdown",
   "id": "0bd2853d-2c97-4405-98a8-ee5ee73c1d75",
   "metadata": {},
   "source": [
    "# Question 8. Aller chercher les données de la collection animal "
   ]
  },
  {
   "cell_type": "code",
   "execution_count": null,
   "id": "9d80a29d-2dec-4b3f-8418-c3f7d7049846",
   "metadata": {},
   "outputs": [],
   "source": [
    "using HarwellRutherfordBoeing"
   ]
  },
  {
   "cell_type": "code",
   "execution_count": null,
   "id": "0c6c526f-49ef-48f8-9589-348d21dcfbf0",
   "metadata": {},
   "outputs": [],
   "source": [
    "function get_problem_from_animal(path_to_animal_folder::String, problem_name::String)\n",
    "    A = HarwellBoeingMatrix(joinpath(path_to_animal_folder, \"hb\", problem_name * \".hb\"))\n",
    "    return A.matrix, vec(A.rhs)\n",
    "end"
   ]
  },
  {
   "cell_type": "code",
   "execution_count": null,
   "id": "c9f06e4a-a6b2-4f08-a001-d8a79f7e1714",
   "metadata": {},
   "outputs": [],
   "source": [
    "function get_solution_from_animal(path_to_animal_folder::String, problem_name::String)\n",
    "    path = joinpath(path_to_animal_folder, \"mls\", \"txt\", problem_name * \"_scaled_mls.txt\")\n",
    "    x = map(x -> parse(Float64, x), readlines(path))\n",
    "    return x\n",
    "end"
   ]
  },
  {
   "cell_type": "markdown",
   "id": "f18600f5-9f92-4faa-8125-c910b77801ad",
   "metadata": {},
   "source": [
    "# Question 9. Normaliser les colonnes d'une matrice creuse"
   ]
  },
  {
   "cell_type": "markdown",
   "id": "af9ecacd-39c9-4d8a-801e-f5615d2a21d2",
   "metadata": {},
   "source": [
    "We can efficiently normalize the columns of a (sparse) matrix A with :\n",
    "`foreach(normalize!, eachcol(A))`"
   ]
  },
  {
   "cell_type": "code",
   "execution_count": null,
   "id": "70649e91-eb6b-4a98-8059-c04ad1002583",
   "metadata": {},
   "outputs": [],
   "source": [
    "# Tests\n",
    "for n = 100:10:500\n",
    "    A = sprandn(Float64, n, n, 0.5)\n",
    "    foreach(normalize!, eachcol(A))\n",
    "    for j = 1:n\n",
    "        @test norm(A[:, j]) ≈ 1.0\n",
    "    end\n",
    "end"
   ]
  },
  {
   "cell_type": "markdown",
   "id": "112256d5-ea3d-490b-af18-d0628bef3e8e",
   "metadata": {},
   "source": [
    "# Question 10. Statistique de la première implémentation"
   ]
  },
  {
   "cell_type": "markdown",
   "id": "f03f0cc4-4d37-4ae3-b9a4-392fc08591c6",
   "metadata": {},
   "source": [
    "Le tableau est produit pour les deux méthodes à la fois, à la question 13."
   ]
  },
  {
   "cell_type": "markdown",
   "id": "2260c054-c20c-4dd0-a832-ca25659f98c8",
   "metadata": {},
   "source": [
    "# Question 13. Deuxième implémentation"
   ]
  },
  {
   "cell_type": "code",
   "execution_count": null,
   "id": "e70e9e68-8060-4d57-878f-e80c22561b91",
   "metadata": {},
   "outputs": [],
   "source": [
    "using LDLFactorizations"
   ]
  },
  {
   "cell_type": "code",
   "execution_count": null,
   "id": "153734a7-17f3-4702-b6e0-3b0e17051a2a",
   "metadata": {},
   "outputs": [],
   "source": [
    "test_least_square(golub_riley_2, false)"
   ]
  },
  {
   "cell_type": "code",
   "execution_count": null,
   "id": "0aa883af-50b2-4ff8-819b-7e40ed524dde",
   "metadata": {},
   "outputs": [],
   "source": [
    "function golub_riley_2(A::SparseMatrixCSC{Float64}, b::Vector{Float64}, λ::Float64=0.1, ϵ::Float64=1e-4)\n",
    "    m, n = size(A)\n",
    "    x_k = zeros(Float64, n)\n",
    "    b_augmented_k = [b; zeros(n)]\n",
    "\n",
    "    # We could pass an upper triangular matrix to ldl for more memory efficiency\n",
    "    K = [sparse(I, m, m) A; adjoint(A) sparse(-(λ^2)I, n, n)]\n",
    "    LDLT = ldl(K)\n",
    "    Δsol_k = Vector{Float64}(undef, m + n)\n",
    "    while true\n",
    "        ldiv!(Δsol_k, LDLT, b_augmented_k)\n",
    "        x_k .+= (@view Δsol_k[m+1:m+n])\n",
    "        b_augmented_k[1:m] = b\n",
    "\n",
    "        # b_augmented_k[1:m] -= A * x_k\n",
    "        mul!(view(b_augmented_k, 1:m), A, x_k, -1.0, 1.0)\n",
    "        if (norm(@view Δsol_k[m+1:m+n]) / norm(x_k)) ≤ ϵ\n",
    "            break\n",
    "        end\n",
    "    end\n",
    "    \n",
    "    return x_k, nnz(A), nnz(LDLT.L)\n",
    "end"
   ]
  },
  {
   "cell_type": "markdown",
   "id": "238239a7-c502-41cb-bde3-84c2d6048c6b",
   "metadata": {},
   "source": [
    "## Tableau comparatif des deux méthodes"
   ]
  },
  {
   "cell_type": "code",
   "execution_count": null,
   "id": "594a0df9-c9a1-4042-91fb-e0f580703451",
   "metadata": {},
   "outputs": [],
   "source": [
    "using BenchmarkTools\n",
    "using PrettyTables"
   ]
  },
  {
   "cell_type": "code",
   "execution_count": null,
   "id": "c0848da1-ca41-4adb-b3b3-541a5aa459ed",
   "metadata": {},
   "outputs": [],
   "source": [
    "header = [\"Problème\", \"nnz A\", \"ϵ\", \"λ\", \"nnz R\", \"Err rel x méth 1\", \"Temps (s) méth 1\",\n",
    "          \"nnz L\", \"Err rel x méth 2\", \"Temps (s) méth 2\"]\n",
    "λ_values = [1e-1, 1e-3]\n",
    "ϵ_values = [1e-4, 1e-6]\n",
    "\n",
    "# On a pas la solution pour very2 donc on l'ignore\n",
    "animal_problem = [\"small\", \"small2\", \"medium\", \"medium2\", \"large\", \"large2\", \"very\"]\n",
    "table_data = Array{Any, 2}(undef, length(animal_problem) * length(λ_values) * length(ϵ_values), length(header));"
   ]
  },
  {
   "cell_type": "code",
   "execution_count": null,
   "id": "5ba1a4ea-2508-4ab1-afb6-ed30a2a608af",
   "metadata": {},
   "outputs": [],
   "source": [
    "i = 1\n",
    "for problem in animal_problem\n",
    "    \n",
    "    # Remplacer \"animal\" par le chemin vers le dossier \"animal\" sur votre machine\n",
    "    A, b = get_problem_from_animal(\"animal\", problem)\n",
    "    foreach(normalize!, eachcol(A))\n",
    "    x_reference = get_solution_from_animal(\"animal\", problem)\n",
    "    r_reference = b - A * x_reference    \n",
    "    \n",
    "    for λ in λ_values\n",
    "        for ϵ in ϵ_values                  \n",
    "            x_1, nnz_A, nnz_R = golub_riley(A, b, λ, ϵ)\n",
    "            r_1 = b - A * x_1\n",
    "            \n",
    "            # Le temps est en ns, on divise par 1e9 pour le convertir en secondes\n",
    "            median_time_seconds_1 = median(@benchmark golub_riley($A, $b, $λ, $ϵ) samples = 3).time / 1e9   \n",
    "        \n",
    "            x_relative_error_1 = norm(x_1 - x_reference) / norm(x_reference)           \n",
    "            r_relative_error_1 = norm(r_1 - r_reference) / norm(r_reference)\n",
    "            @test r_relative_error_1 ≤ 1e-2\n",
    "\n",
    "            x_2, nnz_A, nnz_L = golub_riley_2(A, b, λ, ϵ)\n",
    "            r_2 = b - A * x_2\n",
    "            \n",
    "            median_time_seconds_2 = median(@benchmark golub_riley_2($A, $b, $λ, $ϵ) samples = 3).time / 1e9   \n",
    "        \n",
    "            x_relative_error_2 = norm(x_2 - x_reference) / norm(x_reference)           \n",
    "            r_relative_error_2 = norm(r_2 - r_reference) / norm(r_reference)\n",
    "            @test r_relative_error_2 ≤ 1e-2\n",
    "\n",
    "            table_data[i, 1] = problem  \n",
    "            table_data[i, 2] = nnz_A\n",
    "            table_data[i, 3] = ϵ\n",
    "            table_data[i, 4] = λ\n",
    "            table_data[i, 5] = nnz_R\n",
    "            table_data[i, 6] = x_relative_error_1        \n",
    "            table_data[i, 7] = median_time_seconds_1\n",
    "            table_data[i, 8] = nnz_L\n",
    "            table_data[i, 9] = x_relative_error_2        \n",
    "            table_data[i, 10] = median_time_seconds_2           \n",
    "            i += 1\n",
    "        end\n",
    "    end\n",
    "end"
   ]
  },
  {
   "cell_type": "code",
   "execution_count": null,
   "id": "4295c3c6-033c-4329-b3ff-582589ef1acd",
   "metadata": {},
   "outputs": [],
   "source": [
    "pretty_table(table_data; formatters = ft_printf(\"%.2e\", [3,4,6,7,9,10]), header)"
   ]
  },
  {
   "cell_type": "markdown",
   "id": "b33860b6-3c83-42d6-aedb-12a7da1c5d75",
   "metadata": {},
   "source": [
    "# Question 14. Comparaison des méthodes de Krylov sur les problèms de la collection animal"
   ]
  },
  {
   "cell_type": "code",
   "execution_count": null,
   "id": "4a9df09c-f410-40ac-ac47-0b0143ca5b6d",
   "metadata": {},
   "outputs": [],
   "source": [
    "using Krylov"
   ]
  },
  {
   "cell_type": "code",
   "execution_count": null,
   "id": "b0c16801-37fc-4405-8d4c-80cc70922121",
   "metadata": {},
   "outputs": [],
   "source": [
    "header_3 = [\"Problème\", \"Méthode\", \"Erreur relative x\", \"Temps d'exécution (s)\", \"Nb itérations\"]\n",
    "nb_of_methods = 5\n",
    "table_data_3 = Array{Any, 2}(undef, length(animal_problem) * nb_of_methods, length(header_3));"
   ]
  },
  {
   "cell_type": "code",
   "execution_count": null,
   "id": "29a6dc9d-27e6-4551-ad50-a7dc8e0bf875",
   "metadata": {},
   "outputs": [],
   "source": [
    "i = 1\n",
    "for problem in animal_problem\n",
    "    \n",
    "    # Remplacer \"animal\" par le chemin vers le dossier \"animal\" sur votre machine\n",
    "    A, b = get_problem_from_animal(\"animal\", problem)\n",
    "    foreach(normalize!, eachcol(A))\n",
    "    x_reference = get_solution_from_animal(\"animal\", problem)\n",
    "\n",
    "    ϵ = 1e-4\n",
    "    x_cgls, stats_cgls = cgls(A, b, atol=ϵ, history=true)\n",
    "    table_data_3[i, 1] = problem\n",
    "    table_data_3[i, 2] = \"CGLS\"\n",
    "    table_data_3[i, 3] =  norm(x_cgls - x_reference) / norm(x_reference)\n",
    "    table_data_3[i, 4] = stats_cgls.timer\n",
    "    table_data_3[i, 5] = stats_cgls.niter\n",
    "    i += 1\n",
    "    \n",
    "    x_crls, stats_crls = crls(A, b, atol=ϵ, history=true)\n",
    "    table_data_3[i, 1] = problem\n",
    "    table_data_3[i, 2] = \"CRLS\"\n",
    "    table_data_3[i, 3] =  norm(x_crls - x_reference) / norm(x_reference)\n",
    "    table_data_3[i, 4] = stats_crls.timer\n",
    "    table_data_3[i, 5] = stats_crls.niter\n",
    "    i += 1\n",
    "\n",
    "    x_lslq, stats_lslq = lslq(A, b, atol=ϵ, history=true)\n",
    "    table_data_3[i, 1] = problem\n",
    "    table_data_3[i, 2] = \"LSLQ\"\n",
    "    table_data_3[i, 3] =  norm(x_lslq - x_reference) / norm(x_reference)\n",
    "    table_data_3[i, 4] = stats_lslq.timer\n",
    "    table_data_3[i, 5] = stats_lslq.niter\n",
    "    i += 1 \n",
    "\n",
    "    x_lsqr, stats_lsqr = lsqr(A, b, atol=ϵ, history=true)\n",
    "    table_data_3[i, 1] = problem\n",
    "    table_data_3[i, 2] = \"LSQR\"\n",
    "    table_data_3[i, 3] =  norm(x_lsqr - x_reference) / norm(x_reference)\n",
    "    table_data_3[i, 4] = stats_lsqr.timer\n",
    "    table_data_3[i, 5] = stats_lsqr.niter\n",
    "    i += 1  \n",
    "\n",
    "    x_lsmr, stats_lsmr = lsmr(A, b, atol=ϵ, history=true)\n",
    "    table_data_3[i, 1] = problem\n",
    "    table_data_3[i, 2] = \"LSMR\"\n",
    "    table_data_3[i, 3] =  norm(x_lsmr - x_reference) / norm(x_reference)\n",
    "    table_data_3[i, 4] = stats_lsmr.timer\n",
    "    table_data_3[i, 5] = stats_lsmr.niter\n",
    "    i += 1  \n",
    "    \n",
    "    #x_usymqr, stats_usymqr = usymqr(A, b, A' * b, atol=ϵ, history=true)\n",
    "    #table_data_3[i, 1] = problem\n",
    "    #table_data_3[i, 2] = \"USYMQR\"\n",
    "    #table_data_3[i, 3] =  norm(x_usymqr - x_reference) / norm(x_reference)\n",
    "    #table_data_3[i, 4] = stats_usymqr.timer\n",
    "    #table_data_3[i, 5] = stats_usrmqr.niter\n",
    "    #i += 1\n",
    "end"
   ]
  },
  {
   "cell_type": "code",
   "execution_count": null,
   "id": "35014762-8495-42ba-b1fa-796684768899",
   "metadata": {},
   "outputs": [],
   "source": [
    "hl = Highlighter(\n",
    "    f      = (data, i, j) -> (Int64(ceil(i / nb_of_methods)) % 2) == 1,\n",
    "    crayon = Crayon(background = :blue))\n",
    "pretty_table(table_data_3; header=header_3, highlighters=hl, formatters = ft_printf(\"%.2e\", [3,4]))"
   ]
  },
  {
   "cell_type": "markdown",
   "id": "e5330e4d-04ff-44eb-8ae9-341994dd8854",
   "metadata": {},
   "source": [
    "# 15. "
   ]
  }
 ],
 "metadata": {
  "kernelspec": {
   "display_name": "Julia 1.10.4",
   "language": "julia",
   "name": "julia-1.10"
  },
  "language_info": {
   "file_extension": ".jl",
   "mimetype": "application/julia",
   "name": "julia",
   "version": "1.10.4"
  }
 },
 "nbformat": 4,
 "nbformat_minor": 5
}
