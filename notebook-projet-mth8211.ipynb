{
 "cells": [
  {
   "cell_type": "markdown",
   "id": "2d31ec1e-cc2b-431d-b000-97a0bcf96f76",
   "metadata": {},
   "source": [
    "# 1. \n",
    "Comme $M$ est une matrice symmétrique définie positive, ses valeurs propres seront toutes réelles et positives et égales à ses valeurs singulières. Les valeurs propres de $M$ respecteront $Mv= cv$ pour une valeur propre $c$ réelle positive. Si on cherche maintenant les valeurs propres de $M + \\lambda² I$, on peut voir que\n",
    "$$\n",
    "\\begin{align}\n",
    " (M + \\lambda² I)v &= dv\\\\\n",
    "  Mv + \\lambda²v &= dv\\\\\n",
    "  Mv &= dv - \\lambda²v\\\\\n",
    "  cv &= dv - \\lambda²v\\\\\n",
    "  d &= c + \\lambda²\n",
    "\\end{align}\n",
    "$$\n",
    "\n",
    "Donc les valeurs propres (et singulières) de $M + \\lambda² I$ sont celles de $M$ mais décalé de $\\lambda²$. De cela, si le nombre de conditionnement de $M$ est \n",
    "$$ \\kappa(M) = \\sigma_\\text{max}(M) / \\sigma_\\text{min}(M) $$\n",
    "\n",
    "alors \n",
    "$$ \\kappa(M + \\lambda²) = (\\sigma_\\text{max}(M) + \\lambda²) / (\\sigma_\\text{min}(M)+ \\lambda²)$$\n",
    "\n",
    "Or comme $\\lambda² > 0$, cela implique que $ \\kappa(M) > \\kappa(M + \\lambda²)$."
   ]
  },
  {
   "cell_type": "markdown",
   "id": "29d6c4dd-3963-46be-8f0a-74656f04a7d2",
   "metadata": {},
   "source": [
    "# 2. "
   ]
  },
  {
   "cell_type": "markdown",
   "id": "2c4c8692-b658-4c04-a72f-b9477e4b017c",
   "metadata": {},
   "source": [
    "# 3. "
   ]
  },
  {
   "cell_type": "markdown",
   "id": "471a7d26-63ee-4cb4-b771-c04299819b23",
   "metadata": {},
   "source": [
    "# 4. "
   ]
  },
  {
   "cell_type": "markdown",
   "id": "cccb56c0-018d-49bb-80f4-98821f36f6bc",
   "metadata": {},
   "source": [
    "# 5. "
   ]
  },
  {
   "cell_type": "markdown",
   "id": "1ba301b3-a79d-4250-9e51-2427ad34ba28",
   "metadata": {},
   "source": [
    "# 6. "
   ]
  },
  {
   "cell_type": "code",
   "execution_count": null,
   "id": "5f29aa26-da6c-4b53-b43a-d88e51fc31a8",
   "metadata": {},
   "outputs": [],
   "source": [
    "using LinearAlgebra\n",
    "using SuiteSparse\n",
    "using SparseArrays\n",
    "using Printf\n",
    "using Test"
   ]
  },
  {
   "cell_type": "code",
   "execution_count": null,
   "id": "45607a53-1eab-4354-b65f-081cca10b0f7",
   "metadata": {},
   "outputs": [],
   "source": [
    "function test_least_square(f::Function, minimum_norm::Bool)\n",
    "    A_1 = [1. 2. 3.; 4. 5. 6.; 7. 8. 9.; 5. 7. 9.]\n",
    "    b_1 = ones(Float64, 4)\n",
    "    \n",
    "    x = f(sparse(A_1), b_1)\n",
    "    x_baseline = A_1 \\ b_1\n",
    "\n",
    "    r = A_1 * x - b_1\n",
    "    r_baseline = A_1 * x_baseline - b_1\n",
    "    @test norm(r - r_baseline) ≈ 0.0 atol=1e-6   \n",
    "\n",
    "    if minimum_norm\n",
    "        @test norm(x - x_baseline) ≈ 0.0 atol=1e-6\n",
    "    end\n",
    "end"
   ]
  },
  {
   "cell_type": "code",
   "execution_count": null,
   "id": "f792492f-dba4-4790-8432-17591bea5f5a",
   "metadata": {},
   "outputs": [],
   "source": [
    "function golub_riley(A::SparseMatrixCSC{Float64}, b::Vector{Float64}, λ::Float64=0.1, ϵ::Float64=1e-6)\n",
    "    m, n = size(A)\n",
    "    x_k = zeros(Float64, n)\n",
    "    b_k = [b; zeros(n)]\n",
    "    A_augmented = sparse([A; λ * I])\n",
    "    QR_A_augmented = qr(A_augmented)\n",
    "\n",
    "    while true\n",
    "        Δx_k = QR_A_augmented \\ b_k\n",
    "        x_k += Δx_k\n",
    "        b_k = [b - A * x_k; zeros(n)]\n",
    "        if (norm(Δx_k) / norm(x_k)) ≤ ϵ\n",
    "            break\n",
    "        end\n",
    "    end\n",
    "    \n",
    "    return x_k\n",
    "end\n"
   ]
  },
  {
   "cell_type": "code",
   "execution_count": null,
   "id": "48573de9-5c68-4f94-a2aa-b59bae049eb3",
   "metadata": {},
   "outputs": [],
   "source": [
    "test_least_square(golub_riley, false)"
   ]
  },
  {
   "cell_type": "markdown",
   "id": "14a09985-3d06-402e-abf4-38997cf4a465",
   "metadata": {},
   "source": [
    "# 7. "
   ]
  },
  {
   "cell_type": "markdown",
   "id": "0bd2853d-2c97-4405-98a8-ee5ee73c1d75",
   "metadata": {},
   "source": [
    "# 8. "
   ]
  },
  {
   "cell_type": "markdown",
   "id": "f18600f5-9f92-4faa-8125-c910b77801ad",
   "metadata": {},
   "source": [
    "# 9. "
   ]
  },
  {
   "cell_type": "markdown",
   "id": "112256d5-ea3d-490b-af18-d0628bef3e8e",
   "metadata": {},
   "source": [
    "# 10. "
   ]
  },
  {
   "cell_type": "markdown",
   "id": "d721031f-c46b-4c54-abad-71eab4a0a889",
   "metadata": {},
   "source": [
    "# 11. "
   ]
  },
  {
   "cell_type": "markdown",
   "id": "ee6297ae-e7d0-4d1d-a865-da1fc392d633",
   "metadata": {},
   "source": [
    "# 12. "
   ]
  },
  {
   "cell_type": "markdown",
   "id": "2260c054-c20c-4dd0-a832-ca25659f98c8",
   "metadata": {},
   "source": [
    "# 13. "
   ]
  },
  {
   "cell_type": "code",
   "execution_count": null,
   "id": "e70e9e68-8060-4d57-878f-e80c22561b91",
   "metadata": {},
   "outputs": [],
   "source": [
    "using LDLFactorizations"
   ]
  },
  {
   "cell_type": "code",
   "execution_count": null,
   "id": "0aa883af-50b2-4ff8-819b-7e40ed524dde",
   "metadata": {},
   "outputs": [],
   "source": [
    "function golub_riley_2(A::SparseMatrixCSC{Float64}, b::Vector{Float64}, λ::Float64=0.1, ϵ::Float64=1e-6)\n",
    "    m, n = size(A)\n",
    "    x_k = zeros(Float64, n)\n",
    "    b_augmented_k = [b; zeros(n)]\n",
    "\n",
    "    # We could pass an upper triangular matrix to ldl for more memory efficiency\n",
    "    K = [I A; adjoint(A) (-(λ^2) * I)]\n",
    "    println(size(K))\n",
    "    LDLT = ldl(K)\n",
    "\n",
    "    while true\n",
    "        Δsol_k = LDLT \\ b_augmented_k\n",
    "        Δr_k = Δsol_k[1:m]\n",
    "        Δx_k = Δsol_k[m+1:m+n]\n",
    "        x_k += Δx_k\n",
    "        b_augmented_k[1:m] = b - A * x_k\n",
    "        if (norm(Δx_k) / norm(x_k)) ≤ ϵ\n",
    "            break\n",
    "        end\n",
    "    end\n",
    "    \n",
    "    return x_k\n",
    "end"
   ]
  },
  {
   "cell_type": "code",
   "execution_count": null,
   "id": "153734a7-17f3-4702-b6e0-3b0e17051a2a",
   "metadata": {},
   "outputs": [],
   "source": [
    "test_least_square(golub_riley_2, false)"
   ]
  },
  {
   "cell_type": "markdown",
   "id": "b33860b6-3c83-42d6-aedb-12a7da1c5d75",
   "metadata": {},
   "source": [
    "# 14. "
   ]
  },
  {
   "cell_type": "markdown",
   "id": "e5330e4d-04ff-44eb-8ae9-341994dd8854",
   "metadata": {},
   "source": [
    "# 15. "
   ]
  }
 ],
 "metadata": {
  "kernelspec": {
   "display_name": "Julia 1.10.4",
   "language": "julia",
   "name": "julia-1.10"
  },
  "language_info": {
   "file_extension": ".jl",
   "mimetype": "application/julia",
   "name": "julia",
   "version": "1.10.4"
  }
 },
 "nbformat": 4,
 "nbformat_minor": 5
}
