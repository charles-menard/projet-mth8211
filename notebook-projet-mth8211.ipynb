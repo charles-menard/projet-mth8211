{
 "cells": [
  {
   "cell_type": "markdown",
   "id": "51a28bf5-b101-4df5-85be-49850546bd42",
   "metadata": {},
   "source": [
    "# Question 5. Illustrer que la factorisation QR creuse telle qu’implémentée dans SuiteSparseQR ne fournit pas la solution de norme minimale d’un problème aux moindres carrés"
   ]
  },
  {
   "cell_type": "code",
   "execution_count": 36,
   "id": "5a926e87",
   "metadata": {},
   "outputs": [
    {
     "name": "stderr",
     "output_type": "stream",
     "text": [
      "\u001b[32m\u001b[1m  Activating\u001b[22m\u001b[39m project at `~/projet-mth8211/projet MTH8211`\n",
      "\u001b[32m\u001b[1m   Resolving\u001b[22m\u001b[39m package versions...\n",
      "\u001b[32m\u001b[1m    Updating\u001b[22m\u001b[39m `~/projet-mth8211/projet MTH8211/Project.toml`\n",
      "  \u001b[90m[ba0b0d4f] \u001b[39m\u001b[92m+ Krylov v0.9.6\u001b[39m\n",
      "\u001b[32m\u001b[1m    Updating\u001b[22m\u001b[39m `~/projet-mth8211/projet MTH8211/Manifest.toml`\n",
      "  \u001b[90m[ba0b0d4f] \u001b[39m\u001b[92m+ Krylov v0.9.6\u001b[39m\n"
     ]
    }
   ],
   "source": [
    "using Pkg \n",
    "Pkg.activate(\"projet-MTH8211\")\n",
    "Pkg.add([\"LinearAlgebra\",\"SparseArrays\",\"Test\",\"HarwellRutherfordBoeing\",\"LDLFactorizations\",\"BenchmarkTools\",\"PrettyTables\",\"Krylov\"])\n"
   ]
  },
  {
   "cell_type": "code",
   "execution_count": 37,
   "id": "1554511f-1bee-406b-9e51-04a9cec42e80",
   "metadata": {},
   "outputs": [],
   "source": [
    "using LinearAlgebra\n",
    "using SparseArrays"
   ]
  },
  {
   "cell_type": "code",
   "execution_count": 38,
   "id": "7dcff7f6-eec5-46d4-b645-1736f4931003",
   "metadata": {},
   "outputs": [
    {
     "data": {
      "text/plain": [
       "4-element Vector{Float64}:\n",
       " 1.0\n",
       " 1.0\n",
       " 1.0\n",
       " 0.0"
      ]
     },
     "metadata": {},
     "output_type": "display_data"
    }
   ],
   "source": [
    "A = sparse([1. 0. 0. 0.;\n",
    "0. 1. 0. 0.;\n",
    "0. 0. 1. 1.;\n",
    "0. 0. 1. 1.;\n",
    "0. 0. 1. 1.])\n",
    "b = A * [1; 1; 1; 0]\n",
    "x = A \\ b"
   ]
  },
  {
   "cell_type": "code",
   "execution_count": 11,
   "id": "199b8084-cad9-4eb9-a446-a08a4912bfdf",
   "metadata": {},
   "outputs": [
    {
     "data": {
      "text/plain": [
       "true"
      ]
     },
     "metadata": {},
     "output_type": "display_data"
    }
   ],
   "source": [
    "x_min = [1.; 1.; 0.5; 0.5]\n",
    "A * x_min ≈ b"
   ]
  },
  {
   "cell_type": "code",
   "execution_count": 12,
   "id": "7b31dbc3-b750-4174-a62d-0caf22d915c4",
   "metadata": {},
   "outputs": [
    {
     "data": {
      "text/plain": [
       "false"
      ]
     },
     "metadata": {},
     "output_type": "display_data"
    }
   ],
   "source": [
    "norm(x) ≈ norm(x_min)"
   ]
  },
  {
   "cell_type": "markdown",
   "id": "926cb358-a82f-4153-aec3-fe30dc908f89",
   "metadata": {},
   "source": [
    "Nous avons trouver une solution de norme plus petite que celle trouvé à l’aide de la factorisation\n",
    "QR creuse de A."
   ]
  },
  {
   "cell_type": "markdown",
   "id": "1ba301b3-a79d-4250-9e51-2427ad34ba28",
   "metadata": {},
   "source": [
    "# Question 7. Première implémentation"
   ]
  },
  {
   "cell_type": "code",
   "execution_count": 13,
   "id": "5f29aa26-da6c-4b53-b43a-d88e51fc31a8",
   "metadata": {},
   "outputs": [],
   "source": [
    "using Test"
   ]
  },
  {
   "cell_type": "code",
   "execution_count": 15,
   "id": "45607a53-1eab-4354-b65f-081cca10b0f7",
   "metadata": {},
   "outputs": [
    {
     "data": {
      "text/plain": [
       "test_least_square (generic function with 1 method)"
      ]
     },
     "metadata": {},
     "output_type": "display_data"
    }
   ],
   "source": [
    "function test_least_square(f::Function, minimum_norm::Bool)\n",
    "    A_1 = [1. 2. 3.; 4. 5. 6.; 7. 8. 9.; 5. 7. 9.]\n",
    "    b_1 = ones(Float64, 4)\n",
    "    \n",
    "    x, _, _ = f(sparse(A_1), b_1)\n",
    "    x_baseline = A_1 \\ b_1\n",
    "\n",
    "    r = A_1 * x - b_1\n",
    "    r_baseline = A_1 * x_baseline - b_1\n",
    "    @test norm(r - r_baseline) ≈ 0.0 atol=1e-6   \n",
    "\n",
    "    if minimum_norm\n",
    "        @test norm(x - x_baseline) ≈ 0.0 atol=1e-6\n",
    "    end\n",
    "end"
   ]
  },
  {
   "cell_type": "code",
   "execution_count": 16,
   "id": "f792492f-dba4-4790-8432-17591bea5f5a",
   "metadata": {},
   "outputs": [
    {
     "data": {
      "text/plain": [
       "golub_riley (generic function with 3 methods)"
      ]
     },
     "metadata": {},
     "output_type": "display_data"
    }
   ],
   "source": [
    "function golub_riley(A::SparseMatrixCSC{Float64}, b::Vector{Float64}, λ::Float64=0.1, ϵ::Float64=1e-4)\n",
    "    m, n = size(A)\n",
    "    x_k = zeros(Float64, n)\n",
    "    b_k = [b; zeros(n)]\n",
    "    A_augmented = sparse_vcat(A, sparse(λ * I, n, n))\n",
    "    QR_A_augmented = qr(A_augmented)\n",
    "\n",
    "    Δx_k = Vector{Float64}(undef, n)\n",
    "    while true\n",
    "        # On utilise \\ parce que ldiv!(Y, A, b) ne semble par être implanter pour\n",
    "        # la factorisation QR creuse\n",
    "        Δx_k = QR_A_augmented \\ b_k\n",
    "        x_k += Δx_k\n",
    "        b_k[1:m] = b - A * x_k\n",
    "        b_k[m+1:m+n] .= 0.0\n",
    "        if (norm(Δx_k) / norm(x_k)) ≤ ϵ\n",
    "            break\n",
    "        end\n",
    "    end\n",
    "    \n",
    "    return x_k, nnz(A), nnz(QR_A_augmented.R)\n",
    "end\n"
   ]
  },
  {
   "cell_type": "code",
   "execution_count": 17,
   "id": "48573de9-5c68-4f94-a2aa-b59bae049eb3",
   "metadata": {},
   "outputs": [],
   "source": [
    "test_least_square(golub_riley, false)"
   ]
  },
  {
   "cell_type": "markdown",
   "id": "0bd2853d-2c97-4405-98a8-ee5ee73c1d75",
   "metadata": {},
   "source": [
    "# Question 8. Aller chercher les données de la collection animal "
   ]
  },
  {
   "cell_type": "code",
   "execution_count": 44,
   "id": "ea987814",
   "metadata": {},
   "outputs": [
    {
     "name": "stderr",
     "output_type": "stream",
     "text": [
      "Cloning into 'animal'...\n"
     ]
    },
    {
     "data": {
      "text/plain": [
       "Process(`\u001b[4mgit\u001b[24m \u001b[4mclone\u001b[24m \u001b[4mhttps://github.com/optimizers/animal.git\u001b[24m`, ProcessExited(0))"
      ]
     },
     "metadata": {},
     "output_type": "display_data"
    }
   ],
   "source": [
    "run(`git clone https://github.com/optimizers/animal.git`)"
   ]
  },
  {
   "cell_type": "code",
   "execution_count": 18,
   "id": "9d80a29d-2dec-4b3f-8418-c3f7d7049846",
   "metadata": {},
   "outputs": [],
   "source": [
    "using HarwellRutherfordBoeing"
   ]
  },
  {
   "cell_type": "code",
   "execution_count": 42,
   "id": "0c6c526f-49ef-48f8-9589-348d21dcfbf0",
   "metadata": {},
   "outputs": [
    {
     "data": {
      "text/plain": [
       "get_problem_from_animal (generic function with 1 method)"
      ]
     },
     "metadata": {},
     "output_type": "display_data"
    }
   ],
   "source": [
    "function get_problem_from_animal(path_to_animal_folder::String, problem_name::String)\n",
    "    A = HarwellBoeingMatrix(joinpath(path_to_animal_folder, \"hb\", problem_name * \".hb\"))\n",
    "    return A.matrix, vec(A.rhs)\n",
    "end"
   ]
  },
  {
   "cell_type": "code",
   "execution_count": 43,
   "id": "c9f06e4a-a6b2-4f08-a001-d8a79f7e1714",
   "metadata": {},
   "outputs": [
    {
     "data": {
      "text/plain": [
       "get_solution_from_animal (generic function with 1 method)"
      ]
     },
     "metadata": {},
     "output_type": "display_data"
    }
   ],
   "source": [
    "function get_solution_from_animal(path_to_animal_folder::String, problem_name::String)\n",
    "    path = joinpath(path_to_animal_folder, \"mls\", \"txt\", problem_name * \"_scaled_mls.txt\")\n",
    "    x = map(x -> parse(Float64, x), readlines(path))\n",
    "    return x\n",
    "end"
   ]
  },
  {
   "cell_type": "markdown",
   "id": "f18600f5-9f92-4faa-8125-c910b77801ad",
   "metadata": {},
   "source": [
    "# Question 9. Normaliser les colonnes d'une matrice creuse"
   ]
  },
  {
   "cell_type": "markdown",
   "id": "af9ecacd-39c9-4d8a-801e-f5615d2a21d2",
   "metadata": {},
   "source": [
    "We can efficiently normalize the columns of a (sparse) matrix A with :\n",
    "`foreach(normalize!, eachcol(A))`"
   ]
  },
  {
   "cell_type": "code",
   "execution_count": 21,
   "id": "70649e91-eb6b-4a98-8059-c04ad1002583",
   "metadata": {},
   "outputs": [],
   "source": [
    "# Tests\n",
    "for n = 100:10:500\n",
    "    A = sprandn(Float64, n, n, 0.5)\n",
    "    foreach(normalize!, eachcol(A))\n",
    "    for j = 1:n\n",
    "        @test norm(A[:, j]) ≈ 1.0\n",
    "    end\n",
    "end"
   ]
  },
  {
   "cell_type": "markdown",
   "id": "112256d5-ea3d-490b-af18-d0628bef3e8e",
   "metadata": {},
   "source": [
    "# Question 10. Statistique de la première implémentation"
   ]
  },
  {
   "cell_type": "markdown",
   "id": "f03f0cc4-4d37-4ae3-b9a4-392fc08591c6",
   "metadata": {},
   "source": [
    "Le tableau est produit pour les deux méthodes à la fois, à la question 13."
   ]
  },
  {
   "cell_type": "markdown",
   "id": "2260c054-c20c-4dd0-a832-ca25659f98c8",
   "metadata": {},
   "source": [
    "# Question 13. Deuxième implémentation"
   ]
  },
  {
   "cell_type": "code",
   "execution_count": 22,
   "id": "e70e9e68-8060-4d57-878f-e80c22561b91",
   "metadata": {},
   "outputs": [],
   "source": [
    "using LDLFactorizations"
   ]
  },
  {
   "cell_type": "code",
   "execution_count": 23,
   "id": "0aa883af-50b2-4ff8-819b-7e40ed524dde",
   "metadata": {},
   "outputs": [
    {
     "data": {
      "text/plain": [
       "golub_riley_2 (generic function with 3 methods)"
      ]
     },
     "metadata": {},
     "output_type": "display_data"
    }
   ],
   "source": [
    "function golub_riley_2(A::SparseMatrixCSC{Float64}, b::Vector{Float64}, λ::Float64=0.1, ϵ::Float64=1e-4)\n",
    "    m, n = size(A)\n",
    "    x_k = zeros(Float64, n)\n",
    "    b_augmented_k = [b; zeros(n)]\n",
    "\n",
    "    # We could pass an upper triangular matrix to ldl for more memory efficiency\n",
    "    K = [sparse(I, m, m) A; adjoint(A) sparse(-(λ^2)I, n, n)]\n",
    "    LDLT = ldl(K)\n",
    "    Δsol_k = Vector{Float64}(undef, m + n)\n",
    "    while true\n",
    "        ldiv!(Δsol_k, LDLT, b_augmented_k)\n",
    "        x_k .+= (@view Δsol_k[m+1:m+n])\n",
    "        b_augmented_k[1:m] = b\n",
    "\n",
    "        # b_augmented_k[1:m] -= A * x_k\n",
    "        mul!(view(b_augmented_k, 1:m), A, x_k, -1.0, 1.0)\n",
    "        if (norm(@view Δsol_k[m+1:m+n]) / norm(x_k)) ≤ ϵ\n",
    "            break\n",
    "        end\n",
    "    end\n",
    "    \n",
    "    return x_k, nnz(A), nnz(LDLT.L)\n",
    "end"
   ]
  },
  {
   "cell_type": "code",
   "execution_count": 24,
   "id": "a16bd57b-3f36-4c2f-924f-b4cc62ce941d",
   "metadata": {},
   "outputs": [],
   "source": [
    "test_least_square(golub_riley_2, false)"
   ]
  },
  {
   "cell_type": "markdown",
   "id": "238239a7-c502-41cb-bde3-84c2d6048c6b",
   "metadata": {},
   "source": [
    "## Tableau comparatif des deux méthodes"
   ]
  },
  {
   "cell_type": "code",
   "execution_count": 27,
   "id": "594a0df9-c9a1-4042-91fb-e0f580703451",
   "metadata": {},
   "outputs": [],
   "source": [
    "using BenchmarkTools\n",
    "using PrettyTables"
   ]
  },
  {
   "cell_type": "code",
   "execution_count": 30,
   "id": "c0848da1-ca41-4adb-b3b3-541a5aa459ed",
   "metadata": {},
   "outputs": [],
   "source": [
    "header = [\"Problème\", \"nnz A\", \"ϵ\", \"λ\", \"nnz R\", \"Err rel x méth 1\", \"Temps (s) méth 1\",\n",
    "          \"nnz L\", \"Err rel x méth 2\", \"Temps (s) méth 2\"]\n",
    "λ_values = [1e-2, 1e-4, 1e-6]\n",
    "ϵ_values = [1e-3, 1e-4]\n",
    "\n",
    "# On a pas la solution pour very2 donc on l'ignore\n",
    "animal_problem = [\"small\", \"small2\", \"medium\", \"medium2\", \"large\", \"large2\", \"very\"]\n",
    "table_data = Array{Any, 2}(undef, length(animal_problem) * length(λ_values) * length(ϵ_values), length(header));"
   ]
  },
  {
   "cell_type": "markdown",
   "id": "83f461cb-460a-4460-8fd5-f7ff694d03b0",
   "metadata": {},
   "source": [
    "La prochaine cellule prend longtemps à exécuter"
   ]
  },
  {
   "cell_type": "code",
   "execution_count": 49,
   "id": "5ba1a4ea-2508-4ab1-afb6-ed30a2a608af",
   "metadata": {},
   "outputs": [
    {
     "name": "stdout",
     "output_type": "stream",
     "text": [
      "i = 1\n",
      "i = 2\n",
      "i = 3\n",
      "i = 4\n",
      "i = 5\n",
      "i = 6\n",
      "i = 7\n",
      "i = 8\n",
      "i = 9\n",
      "i = 10\n",
      "i = 11\n",
      "i = 12\n",
      "i = 13\n",
      "i = 14\n",
      "i = 15\n",
      "i = 16\n"
     ]
    }
   ],
   "source": [
    "i = 1\n",
    "for problem in animal_problem\n",
    "    \n",
    "    # Remplacer \"animal\" par le chemin vers le dossier \"animal\" sur votre machine\n",
    "    A, b = get_problem_from_animal(\"animal\", problem)\n",
    "    foreach(normalize!, eachcol(A))\n",
    "    x_reference = get_solution_from_animal(\"animal\", problem)\n",
    "    r_reference = b - A * x_reference    \n",
    "    \n",
    "    for λ in λ_values\n",
    "        for ϵ in ϵ_values                  \n",
    "            x_1, nnz_A, nnz_R = golub_riley(A, b, λ, ϵ)\n",
    "            r_1 = b - A * x_1\n",
    "            \n",
    "            # Le temps est en ns, on divise par 1e9 pour le convertir en secondes\n",
    "            median_time_seconds_1 = median(@benchmark golub_riley($A, $b, $λ, $ϵ) samples = 1).time / 1e9   \n",
    "        \n",
    "            x_relative_error_1 = norm(x_1 - x_reference) / norm(x_reference)           \n",
    "            r_relative_error_1 = norm(r_1 - r_reference) / norm(r_reference)\n",
    "            @test r_relative_error_1 ≤ 1e-2\n",
    "\n",
    "            x_2, nnz_A, nnz_L = golub_riley_2(A, b, λ, ϵ)\n",
    "            r_2 = b - A * x_2\n",
    "            \n",
    "            median_time_seconds_2 = median(@benchmark golub_riley_2($A, $b, $λ, $ϵ) samples = 1).time / 1e9   \n",
    "        \n",
    "            x_relative_error_2 = norm(x_2 - x_reference) / norm(x_reference)           \n",
    "            r_relative_error_2 = norm(r_2 - r_reference) / norm(r_reference)\n",
    "            @test r_relative_error_2 ≤ 1e-2\n",
    "\n",
    "            table_data[i, 1] = problem  \n",
    "            table_data[i, 2] = nnz_A\n",
    "            table_data[i, 3] = ϵ\n",
    "            table_data[i, 4] = λ\n",
    "            table_data[i, 5] = nnz_R\n",
    "            table_data[i, 6] = x_relative_error_1        \n",
    "            table_data[i, 7] = median_time_seconds_1\n",
    "            table_data[i, 8] = nnz_L\n",
    "            table_data[i, 9] = x_relative_error_2        \n",
    "            table_data[i, 10] = median_time_seconds_2\n",
    "            @show i\n",
    "            i += 1\n",
    "        end\n",
    "    end\n",
    "end"
   ]
  },
  {
   "cell_type": "code",
   "execution_count": 46,
   "id": "4295c3c6-033c-4329-b3ff-582589ef1acd",
   "metadata": {},
   "outputs": [
    {
     "name": "stdout",
     "output_type": "stream",
     "text": [
      "┌──────────┬────────┬──────────┬──────────┬────────┬──────────────────┬──────────────────┬────────┬──────────────────┬──────────────────┐\n",
      "│\u001b[1m Problème \u001b[0m│\u001b[1m  nnz A \u001b[0m│\u001b[1m        ϵ \u001b[0m│\u001b[1m        λ \u001b[0m│\u001b[1m  nnz R \u001b[0m│\u001b[1m Err rel x méth 1 \u001b[0m│\u001b[1m Temps (s) méth 1 \u001b[0m│\u001b[1m  nnz L \u001b[0m│\u001b[1m Err rel x méth 2 \u001b[0m│\u001b[1m Temps (s) méth 2 \u001b[0m│\n",
      "├──────────┼────────┼──────────┼──────────┼────────┼──────────────────┼──────────────────┼────────┼──────────────────┼──────────────────┤\n",
      "│    small │   8510 │ 1.00e-03 │ 1.00e-02 │  14895 │         1.24e-06 │         4.89e-03 │  18812 │         1.24e-06 │         2.55e-03 │\n",
      "│    small │   8510 │ 1.00e-04 │ 1.00e-02 │  14895 │         1.24e-06 │         5.02e-03 │  18812 │         1.24e-06 │         2.25e-03 │\n",
      "│    small │   8510 │ 1.00e-03 │ 1.00e-04 │  14942 │         3.46e-12 │         5.00e-03 │  18812 │         8.58e-10 │         2.11e-03 │\n",
      "│    small │   8510 │ 1.00e-04 │ 1.00e-04 │  14942 │         3.46e-12 │         4.28e-03 │  18812 │         8.58e-10 │         2.11e-03 │\n",
      "│    small │   8510 │ 1.00e-03 │ 1.00e-06 │  14917 │         8.08e-07 │         4.35e-03 │  18812 │         1.61e-05 │         2.14e-03 │\n",
      "│    small │   8510 │ 1.00e-04 │ 1.00e-06 │  14917 │         8.08e-07 │         4.63e-03 │  18812 │         1.61e-05 │         2.12e-03 │\n",
      "│   small2 │  25530 │ 1.00e-03 │ 1.00e-02 │  95726 │         3.22e-03 │         4.22e-02 │ 111366 │         3.22e-03 │         1.60e-02 │\n",
      "│   small2 │  25530 │ 1.00e-04 │ 1.00e-02 │  95726 │         3.49e-04 │         5.46e-02 │ 111366 │         3.49e-04 │         1.64e-02 │\n",
      "│   small2 │  25530 │ 1.00e-03 │ 1.00e-04 │  95697 │         4.44e-08 │         3.27e-02 │ 111366 │         4.43e-08 │         9.95e-03 │\n",
      "│   small2 │  25530 │ 1.00e-04 │ 1.00e-04 │  95697 │         6.16e-11 │         2.23e-02 │ 111366 │         1.93e-09 │         1.02e-02 │\n",
      "│   small2 │  25530 │ 1.00e-03 │ 1.00e-06 │  95711 │         8.56e-07 │         2.82e-02 │ 111366 │         7.57e-06 │         9.96e-03 │\n",
      "│   #undef │ #undef │   #undef │   #undef │ #undef │           #undef │           #undef │ #undef │           #undef │           #undef │\n",
      "│   #undef │ #undef │   #undef │   #undef │ #undef │           #undef │           #undef │ #undef │           #undef │           #undef │\n",
      "│   #undef │ #undef │   #undef │   #undef │ #undef │           #undef │           #undef │ #undef │           #undef │           #undef │\n",
      "│   #undef │ #undef │   #undef │   #undef │ #undef │           #undef │           #undef │ #undef │           #undef │           #undef │\n",
      "│   #undef │ #undef │   #undef │   #undef │ #undef │           #undef │           #undef │ #undef │           #undef │           #undef │\n",
      "│   #undef │ #undef │   #undef │   #undef │ #undef │           #undef │           #undef │ #undef │           #undef │           #undef │\n",
      "│   #undef │ #undef │   #undef │   #undef │ #undef │           #undef │           #undef │ #undef │           #undef │           #undef │\n",
      "│   #undef │ #undef │   #undef │   #undef │ #undef │           #undef │           #undef │ #undef │           #undef │           #undef │\n",
      "│   #undef │ #undef │   #undef │   #undef │ #undef │           #undef │           #undef │ #undef │           #undef │           #undef │\n",
      "│   #undef │ #undef │   #undef │   #undef │ #undef │           #undef │           #undef │ #undef │           #undef │           #undef │\n",
      "│   #undef │ #undef │   #undef │   #undef │ #undef │           #undef │           #undef │ #undef │           #undef │           #undef │\n",
      "│   #undef │ #undef │   #undef │   #undef │ #undef │           #undef │           #undef │ #undef │           #undef │           #undef │\n",
      "│   #undef │ #undef │   #undef │   #undef │ #undef │           #undef │           #undef │ #undef │           #undef │           #undef │\n",
      "│   #undef │ #undef │   #undef │   #undef │ #undef │           #undef │           #undef │ #undef │           #undef │           #undef │\n",
      "│   #undef │ #undef │   #undef │   #undef │ #undef │           #undef │           #undef │ #undef │           #undef │           #undef │\n",
      "│   #undef │ #undef │   #undef │   #undef │ #undef │           #undef │           #undef │ #undef │           #undef │           #undef │\n",
      "│   #undef │ #undef │   #undef │   #undef │ #undef │           #undef │           #undef │ #undef │           #undef │           #undef │\n",
      "│   #undef │ #undef │   #undef │   #undef │ #undef │           #undef │           #undef │ #undef │           #undef │           #undef │\n",
      "│   #undef │ #undef │   #undef │   #undef │ #undef │           #undef │           #undef │ #undef │           #undef │           #undef │\n",
      "│   #undef │ #undef │   #undef │   #undef │ #undef │           #undef │           #undef │ #undef │           #undef │           #undef │\n",
      "│   #undef │ #undef │   #undef │   #undef │ #undef │           #undef │           #undef │ #undef │           #undef │           #undef │\n",
      "│   #undef │ #undef │   #undef │   #undef │ #undef │           #undef │           #undef │ #undef │           #undef │           #undef │\n",
      "│   #undef │ #undef │   #undef │   #undef │ #undef │           #undef │           #undef │ #undef │           #undef │           #undef │\n",
      "│   #undef │ #undef │   #undef │   #undef │ #undef │           #undef │           #undef │ #undef │           #undef │           #undef │\n",
      "│   #undef │ #undef │   #undef │   #undef │ #undef │           #undef │           #undef │ #undef │           #undef │           #undef │\n",
      "│   #undef │ #undef │   #undef │   #undef │ #undef │           #undef │           #undef │ #undef │           #undef │           #undef │\n",
      "│   #undef │ #undef │   #undef │   #undef │ #undef │           #undef │           #undef │ #undef │           #undef │           #undef │\n",
      "│   #undef │ #undef │   #undef │   #undef │ #undef │           #undef │           #undef │ #undef │           #undef │           #undef │\n",
      "│   #undef │ #undef │   #undef │   #undef │ #undef │           #undef │           #undef │ #undef │           #undef │           #undef │\n",
      "│   #undef │ #undef │   #undef │   #undef │ #undef │           #undef │           #undef │ #undef │           #undef │           #undef │\n",
      "│   #undef │ #undef │   #undef │   #undef │ #undef │           #undef │           #undef │ #undef │           #undef │           #undef │\n",
      "└──────────┴────────┴──────────┴──────────┴────────┴──────────────────┴──────────────────┴────────┴──────────────────┴──────────────────┘\n"
     ]
    }
   ],
   "source": [
    "pretty_table(table_data; formatters = ft_printf(\"%.2e\", [3,4,6,7,9,10]), header)"
   ]
  },
  {
   "cell_type": "markdown",
   "id": "b33860b6-3c83-42d6-aedb-12a7da1c5d75",
   "metadata": {},
   "source": [
    "# Question 14. Comparaison des méthodes de Krylov sur les problèms de la collection animal"
   ]
  },
  {
   "cell_type": "code",
   "execution_count": 39,
   "id": "4a9df09c-f410-40ac-ac47-0b0143ca5b6d",
   "metadata": {},
   "outputs": [],
   "source": [
    "using Krylov"
   ]
  },
  {
   "cell_type": "code",
   "execution_count": 40,
   "id": "b0c16801-37fc-4405-8d4c-80cc70922121",
   "metadata": {},
   "outputs": [],
   "source": [
    "header_3 = [\"Problème\", \"Méthode\", \"Erreur relative x\", \"Temps d'exécution (s)\", \"Nb itérations\"]\n",
    "nb_of_methods = 5\n",
    "table_data_3 = Array{Any, 2}(undef, length(animal_problem) * nb_of_methods, length(header_3));"
   ]
  },
  {
   "cell_type": "code",
   "execution_count": 47,
   "id": "29a6dc9d-27e6-4551-ad50-a7dc8e0bf875",
   "metadata": {},
   "outputs": [],
   "source": [
    "i = 1\n",
    "for problem in animal_problem\n",
    "    \n",
    "    # Remplacer \"animal\" par le chemin vers le dossier \"animal\" sur votre machine\n",
    "    A, b = get_problem_from_animal(\"animal\", problem)\n",
    "    foreach(normalize!, eachcol(A))\n",
    "    x_reference = get_solution_from_animal(\"animal\", problem)\n",
    "\n",
    "    ϵ = 1e-4\n",
    "    x_cgls, stats_cgls = cgls(A, b, atol=ϵ, history=true)\n",
    "    table_data_3[i, 1] = problem\n",
    "    table_data_3[i, 2] = \"CGLS\"\n",
    "    table_data_3[i, 3] =  norm(x_cgls - x_reference) / norm(x_reference)\n",
    "    table_data_3[i, 4] = stats_cgls.timer\n",
    "    table_data_3[i, 5] = stats_cgls.niter\n",
    "    i += 1\n",
    "    \n",
    "    x_crls, stats_crls = crls(A, b, atol=ϵ, history=true)\n",
    "    table_data_3[i, 1] = problem\n",
    "    table_data_3[i, 2] = \"CRLS\"\n",
    "    table_data_3[i, 3] =  norm(x_crls - x_reference) / norm(x_reference)\n",
    "    table_data_3[i, 4] = stats_crls.timer\n",
    "    table_data_3[i, 5] = stats_crls.niter\n",
    "    i += 1\n",
    "\n",
    "    x_lslq, stats_lslq = lslq(A, b, atol=ϵ, history=true)\n",
    "    table_data_3[i, 1] = problem\n",
    "    table_data_3[i, 2] = \"LSLQ\"\n",
    "    table_data_3[i, 3] =  norm(x_lslq - x_reference) / norm(x_reference)\n",
    "    table_data_3[i, 4] = stats_lslq.timer\n",
    "    table_data_3[i, 5] = stats_lslq.niter\n",
    "    i += 1 \n",
    "\n",
    "    x_lsqr, stats_lsqr = lsqr(A, b, atol=ϵ, history=true)\n",
    "    table_data_3[i, 1] = problem\n",
    "    table_data_3[i, 2] = \"LSQR\"\n",
    "    table_data_3[i, 3] =  norm(x_lsqr - x_reference) / norm(x_reference)\n",
    "    table_data_3[i, 4] = stats_lsqr.timer\n",
    "    table_data_3[i, 5] = stats_lsqr.niter\n",
    "    i += 1  \n",
    "\n",
    "    x_lsmr, stats_lsmr = lsmr(A, b, atol=ϵ, history=true)\n",
    "    table_data_3[i, 1] = problem\n",
    "    table_data_3[i, 2] = \"LSMR\"\n",
    "    table_data_3[i, 3] =  norm(x_lsmr - x_reference) / norm(x_reference)\n",
    "    table_data_3[i, 4] = stats_lsmr.timer\n",
    "    table_data_3[i, 5] = stats_lsmr.niter\n",
    "    i += 1  \n",
    "    \n",
    "    #x_usymqr, stats_usymqr = usymqr(A, b, A' * b, atol=ϵ, history=true)\n",
    "    #table_data_3[i, 1] = problem\n",
    "    #table_data_3[i, 2] = \"USYMQR\"\n",
    "    #table_data_3[i, 3] =  norm(x_usymqr - x_reference) / norm(x_reference)\n",
    "    #table_data_3[i, 4] = stats_usymqr.timer\n",
    "    #table_data_3[i, 5] = stats_usrmqr.niter\n",
    "    #i += 1\n",
    "end"
   ]
  },
  {
   "cell_type": "code",
   "execution_count": 48,
   "id": "35014762-8495-42ba-b1fa-796684768899",
   "metadata": {},
   "outputs": [
    {
     "name": "stdout",
     "output_type": "stream",
     "text": [
      "┌──────────┬─────────┬───────────────────┬───────────────────────┬───────────────┐\n",
      "│\u001b[1m Problème \u001b[0m│\u001b[1m Méthode \u001b[0m│\u001b[1m Erreur relative x \u001b[0m│\u001b[1m Temps d'exécution (s) \u001b[0m│\u001b[1m Nb itérations \u001b[0m│\n",
      "├──────────┼─────────┼───────────────────┼───────────────────────┼───────────────┤\n",
      "│\u001b[44m    small \u001b[0m│\u001b[44m    CGLS \u001b[0m│\u001b[44m          3.53e-07 \u001b[0m│\u001b[44m              4.82e-03 \u001b[0m│\u001b[44m           157 \u001b[0m│\n",
      "│\u001b[44m    small \u001b[0m│\u001b[44m    CRLS \u001b[0m│\u001b[44m          3.35e-06 \u001b[0m│\u001b[44m              3.74e-03 \u001b[0m│\u001b[44m           150 \u001b[0m│\n",
      "│\u001b[44m    small \u001b[0m│\u001b[44m    LSLQ \u001b[0m│\u001b[44m          1.87e-04 \u001b[0m│\u001b[44m              2.47e-03 \u001b[0m│\u001b[44m           130 \u001b[0m│\n",
      "│\u001b[44m    small \u001b[0m│\u001b[44m    LSQR \u001b[0m│\u001b[44m          1.79e-07 \u001b[0m│\u001b[44m              3.07e-03 \u001b[0m│\u001b[44m           161 \u001b[0m│\n",
      "│\u001b[44m    small \u001b[0m│\u001b[44m    LSMR \u001b[0m│\u001b[44m          1.64e-06 \u001b[0m│\u001b[44m              3.72e-03 \u001b[0m│\u001b[44m           155 \u001b[0m│\n",
      "│   small2 │    CGLS │          4.36e-07 │              1.52e-02 │           278 │\n",
      "│   small2 │    CRLS │          6.85e-06 │              1.68e-02 │           267 │\n",
      "│   small2 │    LSLQ │          1.97e-04 │              1.41e-02 │           286 │\n",
      "│   small2 │    LSQR │          2.41e-07 │              1.41e-02 │           282 │\n",
      "│   small2 │    LSMR │          4.67e-06 │              1.47e-02 │           270 │\n",
      "│\u001b[44m   medium \u001b[0m│\u001b[44m    CGLS \u001b[0m│\u001b[44m          5.42e-07 \u001b[0m│\u001b[44m              1.45e-02 \u001b[0m│\u001b[44m           155 \u001b[0m│\n",
      "│\u001b[44m   medium \u001b[0m│\u001b[44m    CRLS \u001b[0m│\u001b[44m          2.92e-06 \u001b[0m│\u001b[44m              1.43e-02 \u001b[0m│\u001b[44m           146 \u001b[0m│\n",
      "│\u001b[44m   medium \u001b[0m│\u001b[44m    LSLQ \u001b[0m│\u001b[44m          1.94e-04 \u001b[0m│\u001b[44m              8.38e-03 \u001b[0m│\u001b[44m           117 \u001b[0m│\n",
      "│\u001b[44m   medium \u001b[0m│\u001b[44m    LSQR \u001b[0m│\u001b[44m          3.26e-07 \u001b[0m│\u001b[44m              1.11e-02 \u001b[0m│\u001b[44m           160 \u001b[0m│\n",
      "│\u001b[44m   medium \u001b[0m│\u001b[44m    LSMR \u001b[0m│\u001b[44m          1.73e-06 \u001b[0m│\u001b[44m              1.13e-02 \u001b[0m│\u001b[44m           150 \u001b[0m│\n",
      "│  medium2 │    CGLS │          6.36e-07 │              7.19e-02 │           288 │\n",
      "│  medium2 │    CRLS │          2.55e-05 │              7.90e-02 │           276 │\n",
      "│  medium2 │    LSLQ │          2.49e-04 │              7.30e-02 │           305 │\n",
      "│  medium2 │    LSQR │          4.36e-07 │              6.21e-02 │           292 │\n",
      "│  medium2 │    LSMR │          1.59e-05 │              6.56e-02 │           279 │\n",
      "│\u001b[44m    large \u001b[0m│\u001b[44m    CGLS \u001b[0m│\u001b[44m          3.77e-07 \u001b[0m│\u001b[44m              5.97e-02 \u001b[0m│\u001b[44m           164 \u001b[0m│\n",
      "│\u001b[44m    large \u001b[0m│\u001b[44m    CRLS \u001b[0m│\u001b[44m          2.31e-06 \u001b[0m│\u001b[44m              7.71e-02 \u001b[0m│\u001b[44m           156 \u001b[0m│\n",
      "│\u001b[44m    large \u001b[0m│\u001b[44m    LSLQ \u001b[0m│\u001b[44m          2.63e-04 \u001b[0m│\u001b[44m              4.54e-02 \u001b[0m│\u001b[44m           130 \u001b[0m│\n",
      "│\u001b[44m    large \u001b[0m│\u001b[44m    LSQR \u001b[0m│\u001b[44m          2.32e-07 \u001b[0m│\u001b[44m              5.43e-02 \u001b[0m│\u001b[44m           168 \u001b[0m│\n",
      "│\u001b[44m    large \u001b[0m│\u001b[44m    LSMR \u001b[0m│\u001b[44m          1.85e-06 \u001b[0m│\u001b[44m              5.34e-02 \u001b[0m│\u001b[44m           158 \u001b[0m│\n",
      "│   large2 │    CGLS │          7.29e-07 │              2.41e-01 │           316 │\n",
      "│   large2 │    CRLS │          1.96e-04 │              2.56e-01 │           305 │\n",
      "│   large2 │    LSLQ │          2.49e-04 │              2.30e-01 │           345 │\n",
      "│   large2 │    LSQR │          4.99e-07 │              1.89e-01 │           320 │\n",
      "│   large2 │    LSMR │          3.12e-01 │              1.23e-01 │           192 │\n",
      "│\u001b[44m     very \u001b[0m│\u001b[44m    CGLS \u001b[0m│\u001b[44m          9.18e-07 \u001b[0m│\u001b[44m              4.90e-01 \u001b[0m│\u001b[44m           214 \u001b[0m│\n",
      "│\u001b[44m     very \u001b[0m│\u001b[44m    CRLS \u001b[0m│\u001b[44m          4.62e-06 \u001b[0m│\u001b[44m              5.63e-01 \u001b[0m│\u001b[44m           198 \u001b[0m│\n",
      "│\u001b[44m     very \u001b[0m│\u001b[44m    LSLQ \u001b[0m│\u001b[44m          2.58e-04 \u001b[0m│\u001b[44m              3.92e-01 \u001b[0m│\u001b[44m           174 \u001b[0m│\n",
      "│\u001b[44m     very \u001b[0m│\u001b[44m    LSQR \u001b[0m│\u001b[44m          6.64e-07 \u001b[0m│\u001b[44m              4.72e-01 \u001b[0m│\u001b[44m           219 \u001b[0m│\n",
      "│\u001b[44m     very \u001b[0m│\u001b[44m    LSMR \u001b[0m│\u001b[44m          4.62e-06 \u001b[0m│\u001b[44m              5.11e-01 \u001b[0m│\u001b[44m           198 \u001b[0m│\n",
      "└──────────┴─────────┴───────────────────┴───────────────────────┴───────────────┘\n"
     ]
    }
   ],
   "source": [
    "hl = Highlighter(\n",
    "    f      = (data, i, j) -> (Int64(ceil(i / nb_of_methods)) % 2) == 1,\n",
    "    crayon = Crayon(background = :blue))\n",
    "pretty_table(table_data_3; header=header_3, highlighters=hl, formatters = ft_printf(\"%.2e\", [3,4]))"
   ]
  }
 ],
 "metadata": {
  "kernelspec": {
   "display_name": "Julia 1.10.3",
   "language": "julia",
   "name": "julia-1.10"
  },
  "language_info": {
   "file_extension": ".jl",
   "mimetype": "application/julia",
   "name": "julia",
   "version": "1.10.3"
  }
 },
 "nbformat": 4,
 "nbformat_minor": 5
}
