{
 "cells": [
  {
   "cell_type": "markdown",
   "id": "2d31ec1e-cc2b-431d-b000-97a0bcf96f76",
   "metadata": {},
   "source": [
    "# 1. \n",
    "Comme $M$ est une matrice symmétrique définie positive, ses valeurs propres seront toutes réelles et positives et égales à ses valeurs singulières. Les valeurs propres de $M$ respecteront $Mv= cv$ pour une valeur propre $c$ réelle positive. Si on cherche maintenant les valeurs propres de $M + \\lambda² I$, on peut voir que\n",
    "$$\n",
    "\\begin{align}\n",
    " (M + \\lambda² I)v &= dv\\\\\n",
    "  Mv + \\lambda²v &= dv\\\\\n",
    "  Mv &= dv - \\lambda²v\\\\\n",
    "  cv &= dv - \\lambda²v\\\\\n",
    "  d &= c + \\lambda²\n",
    "\\end{align}\n",
    "$$\n",
    "\n",
    "Donc les valeurs propres (et singulières) de $M + \\lambda² I$ sont celles de $M$ mais décalé de $\\lambda²$. De cela, si le nombre de conditionnement de $M$ est \n",
    "$$ \\kappa(M) = \\sigma_\\text{max}(M) / \\sigma_\\text{min}(M) $$\n",
    "\n",
    "alors \n",
    "$$ \\kappa(M + \\lambda²) = (\\sigma_\\text{max}(M) + \\lambda²) / (\\sigma_\\text{min}(M)+ \\lambda²)$$\n",
    "\n",
    "Or comme $\\lambda² > 0$, cela implique que $ \\kappa(M) > \\kappa(M + \\lambda²)$."
   ]
  },
  {
   "cell_type": "markdown",
   "id": "29d6c4dd-3963-46be-8f0a-74656f04a7d2",
   "metadata": {},
   "source": [
    "# 2. "
   ]
  },
  {
   "cell_type": "markdown",
   "id": "2c4c8692-b658-4c04-a72f-b9477e4b017c",
   "metadata": {},
   "source": [
    "# 3. "
   ]
  },
  {
   "cell_type": "markdown",
   "id": "471a7d26-63ee-4cb4-b771-c04299819b23",
   "metadata": {},
   "source": [
    "# 4. "
   ]
  },
  {
   "cell_type": "markdown",
   "id": "cccb56c0-018d-49bb-80f4-98821f36f6bc",
   "metadata": {},
   "source": [
    "# 5. "
   ]
  },
  {
   "cell_type": "markdown",
   "id": "0355f53c-1830-43d6-a346-cf40446aa1fa",
   "metadata": {},
   "source": [
    "# 6."
   ]
  },
  {
   "cell_type": "markdown",
   "id": "1ba301b3-a79d-4250-9e51-2427ad34ba28",
   "metadata": {},
   "source": [
    "# 7. "
   ]
  },
  {
   "cell_type": "code",
   "execution_count": 1,
   "id": "5f29aa26-da6c-4b53-b43a-d88e51fc31a8",
   "metadata": {},
   "outputs": [],
   "source": [
    "using LinearAlgebra\n",
    "using SparseArrays\n",
    "using Printf\n",
    "using Test"
   ]
  },
  {
   "cell_type": "code",
   "execution_count": 2,
   "id": "45607a53-1eab-4354-b65f-081cca10b0f7",
   "metadata": {},
   "outputs": [
    {
     "data": {
      "text/plain": [
       "test_least_square (generic function with 1 method)"
      ]
     },
     "execution_count": 2,
     "metadata": {},
     "output_type": "execute_result"
    }
   ],
   "source": [
    "function test_least_square(f::Function, minimum_norm::Bool)\n",
    "    A_1 = [1. 2. 3.; 4. 5. 6.; 7. 8. 9.; 5. 7. 9.]\n",
    "    b_1 = ones(Float64, 4)\n",
    "    \n",
    "    x = f(sparse(A_1), b_1)\n",
    "    x_baseline = A_1 \\ b_1\n",
    "\n",
    "    r = A_1 * x - b_1\n",
    "    r_baseline = A_1 * x_baseline - b_1\n",
    "    @test norm(r - r_baseline) ≈ 0.0 atol=1e-6   \n",
    "\n",
    "    if minimum_norm\n",
    "        @test norm(x - x_baseline) ≈ 0.0 atol=1e-6\n",
    "    end\n",
    "end"
   ]
  },
  {
   "cell_type": "code",
   "execution_count": 51,
   "id": "f792492f-dba4-4790-8432-17591bea5f5a",
   "metadata": {},
   "outputs": [
    {
     "data": {
      "text/plain": [
       "golub_riley (generic function with 3 methods)"
      ]
     },
     "execution_count": 51,
     "metadata": {},
     "output_type": "execute_result"
    }
   ],
   "source": [
    "function golub_riley(A::SparseMatrixCSC{Float64}, b::Vector{Float64}, λ::Float64=0.1, ϵ::Float64=1e-4)\n",
    "    m, n = size(A)\n",
    "    x_k = zeros(Float64, n)\n",
    "    b_k = [b; zeros(n)]\n",
    "    A_augmented = sparse_vcat(A, sparse(λ * I, n, n))\n",
    "    QR_A_augmented = qr(A_augmented)\n",
    "\n",
    "    Δx_k = Vector{Float64}(undef, n)\n",
    "    while true\n",
    "        # We use \\ because ldiv!(Y, A, b) does not seem to be implemented with sparse QR factorization\n",
    "        Δx_k = QR_A_augmented \\ b_k\n",
    "        x_k += Δx_k\n",
    "        b_k[1:m] = b - A * x_k\n",
    "        b_k[m+1:m+n] .= 0.0\n",
    "        if (norm(Δx_k) / norm(x_k)) ≤ ϵ\n",
    "            break\n",
    "        end\n",
    "    end\n",
    "    \n",
    "    return x_k\n",
    "end\n"
   ]
  },
  {
   "cell_type": "code",
   "execution_count": 52,
   "id": "48573de9-5c68-4f94-a2aa-b59bae049eb3",
   "metadata": {},
   "outputs": [],
   "source": [
    "test_least_square(golub_riley, false)"
   ]
  },
  {
   "cell_type": "markdown",
   "id": "0bd2853d-2c97-4405-98a8-ee5ee73c1d75",
   "metadata": {},
   "source": [
    "# 8. "
   ]
  },
  {
   "cell_type": "code",
   "execution_count": 5,
   "id": "9d80a29d-2dec-4b3f-8418-c3f7d7049846",
   "metadata": {},
   "outputs": [],
   "source": [
    "using HarwellRutherfordBoeing"
   ]
  },
  {
   "cell_type": "code",
   "execution_count": 6,
   "id": "0c6c526f-49ef-48f8-9589-348d21dcfbf0",
   "metadata": {},
   "outputs": [
    {
     "data": {
      "text/plain": [
       "get_problem_from_animal (generic function with 1 method)"
      ]
     },
     "execution_count": 6,
     "metadata": {},
     "output_type": "execute_result"
    }
   ],
   "source": [
    "function get_problem_from_animal(path_to_animal_folder::String, problem_name::String)\n",
    "    A = HarwellBoeingMatrix(joinpath(path_to_animal_folder, \"hb\", problem_name * \".hb\"))\n",
    "    return A.matrix, vec(A.rhs)\n",
    "end"
   ]
  },
  {
   "cell_type": "code",
   "execution_count": 7,
   "id": "c9f06e4a-a6b2-4f08-a001-d8a79f7e1714",
   "metadata": {},
   "outputs": [
    {
     "data": {
      "text/plain": [
       "get_solution_from_animal (generic function with 1 method)"
      ]
     },
     "execution_count": 7,
     "metadata": {},
     "output_type": "execute_result"
    }
   ],
   "source": [
    "function get_solution_from_animal(path_to_animal_folder::String, problem_name::String)\n",
    "    path = joinpath(path_to_animal_folder, \"mls\", \"txt\", problem_name * \"_scaled_mls.txt\")\n",
    "    x = map(x -> parse(Float64, x), readlines(path))\n",
    "    return x\n",
    "end"
   ]
  },
  {
   "cell_type": "markdown",
   "id": "f18600f5-9f92-4faa-8125-c910b77801ad",
   "metadata": {},
   "source": [
    "# 9. "
   ]
  },
  {
   "cell_type": "code",
   "execution_count": 8,
   "id": "0531e75b-edee-49d2-a29c-2efd36a21b91",
   "metadata": {},
   "outputs": [
    {
     "data": {
      "text/plain": [
       "scale_columns_to_unit_norm! (generic function with 1 method)"
      ]
     },
     "execution_count": 8,
     "metadata": {},
     "output_type": "execute_result"
    }
   ],
   "source": [
    "function scale_columns_to_unit_norm!(A::SparseMatrixCSC{Float64})\n",
    "    for j = 1:A.n\n",
    "        col_norm = norm(A[:, j])\n",
    "        A[:, j] ./= col_norm\n",
    "    end\n",
    "end"
   ]
  },
  {
   "cell_type": "code",
   "execution_count": 9,
   "id": "70649e91-eb6b-4a98-8059-c04ad1002583",
   "metadata": {},
   "outputs": [],
   "source": [
    "# Tests\n",
    "for n = 10:30\n",
    "    A = sprandn(Float64, n, n, 0.5)\n",
    "    scale_columns_to_unit_norm!(A)\n",
    "    for j = 1:n\n",
    "        @test norm(A[:, j]) ≈ 1.0\n",
    "    end\n",
    "end"
   ]
  },
  {
   "cell_type": "markdown",
   "id": "112256d5-ea3d-490b-af18-d0628bef3e8e",
   "metadata": {},
   "source": [
    "# 10. "
   ]
  },
  {
   "cell_type": "code",
   "execution_count": 10,
   "id": "594a0df9-c9a1-4042-91fb-e0f580703451",
   "metadata": {},
   "outputs": [],
   "source": [
    "using BenchmarkTools\n",
    "using PrettyTables"
   ]
  },
  {
   "cell_type": "code",
   "execution_count": 53,
   "id": "d68c0a7b-9e27-43cb-a339-ecd59480078c",
   "metadata": {},
   "outputs": [
    {
     "name": "stdout",
     "output_type": "stream",
     "text": [
      "median_time = TrialEstimate(9.318 ms)\n",
      "median_time_baseline = TrialEstimate(4.230 ms)\n",
      "0.0003887972070944706\n",
      "0.00027439390172447455\n",
      "----------\n",
      "median_time = TrialEstimate(1.282 s)\n",
      "median_time_baseline = TrialEstimate(17.512 ms)\n",
      "0.039656585137865394\n",
      "0.0031963284299092133\n",
      "----------\n",
      "median_time = TrialEstimate(128.903 ms)\n",
      "median_time_baseline = TrialEstimate(61.751 ms)\n",
      "0.0002946631571742394\n",
      "0.0002541106867997859\n",
      "----------\n"
     ]
    },
    {
     "ename": "LoadError",
     "evalue": "InterruptException:",
     "output_type": "error",
     "traceback": [
      "InterruptException:",
      "",
      "Stacktrace:",
      "  [1] SparseMatrixCSC(m::Int64, n::Int64, colptr::Vector{Int64}, rowval::Vector{Int64}, nzval::Vector{Float64})",
      "    @ SparseArrays ~/.julia/juliaup/julia-1.10.4+0.x64.linux.gnu/share/julia/stdlib/v1.10/SparseArrays/src/sparsematrix.jl:34",
      "  [2] getindex_cols(A::SparseMatrixCSC{Float64, Int64}, J::Base.OneTo{Int64})",
      "    @ SparseArrays ~/.julia/juliaup/julia-1.10.4+0.x64.linux.gnu/share/julia/stdlib/v1.10/SparseArrays/src/sparsematrix.jl:2720",
      "  [3] getindex(A::SparseMatrixCSC{Float64, Int64}, I::Base.OneTo{Int64}, J::Base.OneTo{Int64})",
      "    @ SparseArrays ~/.julia/juliaup/julia-1.10.4+0.x64.linux.gnu/share/julia/stdlib/v1.10/SparseArrays/src/sparsematrix.jl:2732",
      "  [4] _ldiv_basic(F::SparseArrays.SPQR.QRSparse{Float64, Int64}, B::Vector{Float64})",
      "    @ SparseArrays.SPQR ~/.julia/juliaup/julia-1.10.4+0.x64.linux.gnu/share/julia/stdlib/v1.10/SparseArrays/src/solvers/spqr.jl:435",
      "  [5] \\",
      "    @ ~/.julia/juliaup/julia-1.10.4+0.x64.linux.gnu/share/julia/stdlib/v1.10/SparseArrays/src/solvers/spqr.jl:446 [inlined]",
      "  [6] golub_riley(A::SparseMatrixCSC{Float64, Int64}, b::Vector{Float64}, λ::Float64, ϵ::Float64)",
      "    @ Main ./In[51]:11",
      "  [7] golub_riley",
      "    @ ./In[51]:2 [inlined]",
      "  [8] var\"##core#694\"(A#665::SparseMatrixCSC{Float64, Int64}, b#666::Vector{Float64})",
      "    @ Main ~/.julia/packages/BenchmarkTools/QNsku/src/execution.jl:561",
      "  [9] var\"##sample#695\"(::Tuple{SparseMatrixCSC{Float64, Int64}, Vector{Float64}}, __params::BenchmarkTools.Parameters)",
      "    @ Main ~/.julia/packages/BenchmarkTools/QNsku/src/execution.jl:570",
      " [10] _run(b::BenchmarkTools.Benchmark, p::BenchmarkTools.Parameters; verbose::Bool, pad::String, warmup::Bool, kwargs::@Kwargs{})",
      "    @ BenchmarkTools ~/.julia/packages/BenchmarkTools/QNsku/src/execution.jl:125",
      " [11] #invokelatest#2",
      "    @ ./essentials.jl:894 [inlined]",
      " [12] invokelatest",
      "    @ ./essentials.jl:889 [inlined]",
      " [13] #run_result#45",
      "    @ ~/.julia/packages/BenchmarkTools/QNsku/src/execution.jl:48 [inlined]",
      " [14] run_result",
      "    @ ~/.julia/packages/BenchmarkTools/QNsku/src/execution.jl:47 [inlined]",
      " [15] run(b::BenchmarkTools.Benchmark, p::BenchmarkTools.Parameters; progressid::Nothing, nleaves::Float64, ndone::Float64, kwargs::@Kwargs{warmup::Bool})",
      "    @ BenchmarkTools ~/.julia/packages/BenchmarkTools/QNsku/src/execution.jl:144",
      " [16] run",
      "    @ ~/.julia/packages/BenchmarkTools/QNsku/src/execution.jl:136 [inlined]",
      " [17] macro expansion",
      "    @ ~/.julia/packages/BenchmarkTools/QNsku/src/execution.jl:448 [inlined]",
      " [18] top-level scope",
      "    @ In[53]:11"
     ]
    }
   ],
   "source": [
    "# very2 has no solution in the animal/mls folder so we ignore it.\n",
    "animal_problem = [\"small\", \"small2\", \"medium\", \"medium2\", \"large\", \"large2\", \"very\"]\n",
    "for problem in animal_problem\n",
    "\n",
    "    # Replace \"animal\" by the path of the animal problem folder on your machine.\n",
    "    A, b = get_problem_from_animal(\"animal\", problem)\n",
    "    scale_columns_to_unit_norm!(A)\n",
    "\n",
    "    x = golub_riley(A, b)\n",
    "    r = b - A * x\n",
    "    median_time = median(@benchmark(golub_riley($A, $b)))\n",
    "    median_time_baseline = median(@benchmark($A \\ $b))\n",
    "    @show median_time\n",
    "    @show median_time_baseline\n",
    "\n",
    "    x_reference = get_solution_from_animal(\"animal\", problem)\n",
    "    r_reference = b - A * x_reference\n",
    "\n",
    "    x_relative_error = norm(x - x_reference) / norm(x_reference)\n",
    "    println(x_relative_error)\n",
    "\n",
    "    r_relative_error = norm(r - r_reference) / norm(r_reference)\n",
    "    println(r_relative_error)\n",
    "    println(\"----------\")\n",
    "end"
   ]
  },
  {
   "cell_type": "markdown",
   "id": "d721031f-c46b-4c54-abad-71eab4a0a889",
   "metadata": {},
   "source": [
    "# 11. "
   ]
  },
  {
   "cell_type": "markdown",
   "id": "3ea58fd8-58f1-47ee-862e-a8391f21f448",
   "metadata": {},
   "source": [
    "Si on part du système\n",
    "$$\n",
    "\\begin{pmatrix}\n",
    "I & A \\\\\n",
    "A^T & - \\lambda^{2}I\n",
    "\\end{pmatrix}\n",
    "\\begin{pmatrix}\n",
    "\\Delta r_k \\\\ \\Delta x_k\n",
    "\\end{pmatrix}\n",
    "=\n",
    "\\begin{pmatrix}\n",
    "b_k \\\\ 0\n",
    "\\end{pmatrix}\n",
    "$$\n",
    "\n",
    "on obtient les égalités $\\Delta r_k + A \\Delta x_k = b_k$ et $A^T \\Delta r_k - \\lambda^{2} \\Delta x_k =0$. De là, on sait que $\\Delta r_k = b_k - A \\Delta x_k$. En substituant $\\Delta r_k$ dans la deuxième équation par $b_k - A \\Delta x_k$, on obtient\n",
    "$$\n",
    "\\begin{align*}\n",
    "A^T( b_k - A \\Delta x_k) - \\lambda^{2} x_k &= 0\\\\\n",
    "A^T A \\Delta x_k + \\lambda^{2} \\Delta x_k &= A^T b_k\\\\\n",
    "(A^T A + \\lambda^{2}I)  \\Delta x_k = A^T b_k\n",
    "\\end{align*}\n",
    "$$\n",
    "\n",
    "On peut faire la même chose en partant de $(A^T A + \\lambda^{2}I)  \\Delta x_k = A^T b_k$, il faut seulement faire les étapes en sens inverses et ajouter une contrainte pour définir la variable $\\Delta r_k$."
   ]
  },
  {
   "cell_type": "markdown",
   "id": "ee6297ae-e7d0-4d1d-a865-da1fc392d633",
   "metadata": {},
   "source": [
    "# 12. "
   ]
  },
  {
   "cell_type": "markdown",
   "id": "7222e914-0656-4a4e-9012-a25197a9dd18",
   "metadata": {},
   "source": [
    "On peut se servir du fait que deux matrices congruentes ont la même intertie. Soit \n",
    "$$ K = \n",
    "\\begin{pmatrix}\n",
    "I & A \\\\\n",
    "A^T & - \\lambda^{2}I\n",
    "\\end{pmatrix}\n",
    "$$\n",
    "\n",
    "On cherche alors une matrice $D$ congruente à la matrice bloc $K$, ce qui veut dire que $K = M^*DM$ où $M$ est inversible. Regardons\n",
    "\\begin{equation*}\n",
    "  K = M^* D M =\n",
    "  \\left(\n",
    "    \\begin{array}{cc}\n",
    "    I & 0 \\\\\n",
    "    A^* & I\n",
    "    \\end{array}\n",
    "  \\right)\n",
    "  \\left(\n",
    "  \\begin{array}{cc}\n",
    "    I & 0 \\\\\n",
    "    0 & -A^* A - \\lambda^{2} I \n",
    "  \\end{array}\n",
    "\\right)\n",
    "\\left(\n",
    "  \\begin{array}{cc}\n",
    "    I & A \\\\\n",
    "    0 & I        \n",
    "  \\end{array}\n",
    "  \\right)\n",
    "\\end{equation*}\n",
    "\n",
    "On calcule aisément que cette égalité tient. On voit également que $M$ et $M^*$ sont inversibles car elles ont un déterminant de $1$ car elles n'ont que des éléments de $1$ sur la diagonale. $K$ est donc congruente à $D$.\n",
    "\n",
    "Il faut maintenant examiner les valeurs propres de $D$. Par sa structure de bloc uniquement sur la diagonale, les valeurs propres de $D$ seront l'union des valeurs propres de $I$ et de $-A^*A - \\lambda^{2}I$. Les valeurs propres de $I$ sont $1$. \n",
    "Quant à $-A^*A - \\lambda^{2}I$, regardons pour un vecteur $x$\n",
    "\\begin{align*}\n",
    "x^*(-A^*A - \\lambda^{2}I)x &= -x^* A^*A x - \\lambda^{2}x^*x\\\\\n",
    "&= -||Ax||^{2} - ||x||^{2}\n",
    "\\end{align*}\n",
    "\n",
    "La norme de $||Ax||$ pourrait être nulle pour un vecteur $x$ non-nulle, mais dans ce cas la norme de $x$ serait positive et donc le membre de droite de l'équation serait négatif. On en conclut que le membre de droite est nulle seulement si $x$ est nul et donc que le bloc en bas à droite de $D$ est défini négatif, et donc que $D$ a seulement des valeurs propres strictement négative ou positive.\n",
    "\n",
    "Comme $K$ a la même inertie que $D$, elle aura des valeurs propres strictement positives et strictement négatives, ce qui veut dire que la matrice est inversible.\n"
   ]
  },
  {
   "cell_type": "markdown",
   "id": "2260c054-c20c-4dd0-a832-ca25659f98c8",
   "metadata": {},
   "source": [
    "# 13. "
   ]
  },
  {
   "cell_type": "code",
   "execution_count": 18,
   "id": "e70e9e68-8060-4d57-878f-e80c22561b91",
   "metadata": {},
   "outputs": [],
   "source": [
    "using LDLFactorizations"
   ]
  },
  {
   "cell_type": "code",
   "execution_count": 55,
   "id": "0aa883af-50b2-4ff8-819b-7e40ed524dde",
   "metadata": {},
   "outputs": [
    {
     "data": {
      "text/plain": [
       "golub_riley_2 (generic function with 3 methods)"
      ]
     },
     "execution_count": 55,
     "metadata": {},
     "output_type": "execute_result"
    }
   ],
   "source": [
    "function golub_riley_2(A::SparseMatrixCSC{Float64}, b::Vector{Float64}, λ::Float64=0.1, ϵ::Float64=1e-4)\n",
    "    m, n = size(A)\n",
    "    x_k = zeros(Float64, n)\n",
    "    b_augmented_k = [b; zeros(n)]\n",
    "\n",
    "    # We could pass an upper triangular matrix to ldl for more memory efficiency\n",
    "    K = [I A; adjoint(A) (-(λ^2) * I)]\n",
    "    LDLT = ldl(K)\n",
    "    Δsol_k = Vector{Float64}(undef, m + n)\n",
    "    while true\n",
    "        ldiv!(Δsol_k, LDLT, b_augmented_k)\n",
    "        x_k += Δsol_k[m+1:m+n]\n",
    "        b_augmented_k[1:m] = b - A * x_k\n",
    "        if (norm(Δsol_k[m+1:m+n]) / norm(x_k)) ≤ ϵ\n",
    "            break\n",
    "        end\n",
    "    end\n",
    "    \n",
    "    return x_k\n",
    "end"
   ]
  },
  {
   "cell_type": "code",
   "execution_count": 56,
   "id": "153734a7-17f3-4702-b6e0-3b0e17051a2a",
   "metadata": {},
   "outputs": [],
   "source": [
    "test_least_square(golub_riley_2, false)"
   ]
  },
  {
   "cell_type": "code",
   "execution_count": 57,
   "id": "dd34414b-89ba-4d6c-88a1-54dd36f011d0",
   "metadata": {},
   "outputs": [
    {
     "name": "stdout",
     "output_type": "stream",
     "text": [
      "  3.280 ms (366 allocations: 5.20 MiB)\n",
      "  3.545 ms (196 allocations: 4.89 MiB)\n",
      "0.0003887972070944183\n",
      "0.00027439390172444153\n",
      "----------\n",
      "  292.401 ms (8036 allocations: 155.32 MiB)\n",
      "  15.467 ms (205 allocations: 22.25 MiB)\n",
      "0.03965658513786405\n",
      "0.0031963284299091036\n",
      "----------\n",
      "  37.191 ms (377 allocations: 40.96 MiB)\n",
      "  54.667 ms (201 allocations: 64.73 MiB)\n",
      "0.0002946631571742237\n",
      "0.0002541106867997748\n",
      "----------\n",
      "  449.471 ms (437 allocations: 125.98 MiB)\n",
      "  340.412 ms (206 allocations: 376.63 MiB)\n",
      "0.31247420147425514\n",
      "0.00928926298762896\n",
      "----------\n",
      "  13.416 ms (416 allocations: 15.38 MiB)\n",
      "  15.811 ms (201 allocations: 19.46 MiB)\n",
      "0.0001690724674407964\n",
      "0.00017165689223808098\n",
      "----------\n",
      "  2.428 s (12857 allocations: 746.05 MiB)\n",
      "  60.575 ms (205 allocations: 82.73 MiB)\n",
      "0.10893594351497583\n",
      "0.005452652788888664\n",
      "----------\n"
     ]
    },
    {
     "ename": "LoadError",
     "evalue": "InterruptException:",
     "output_type": "error",
     "traceback": [
      "InterruptException:",
      "",
      "Stacktrace:",
      "  [1] ldl_analyze(A::SparseMatrixCSC{Float64, Int64}, ::Type{Float64}; P::Vector{Int64})",
      "    @ LDLFactorizations ~/.julia/packages/LDLFactorizations/9tnAq/src/LDLFactorizations.jl:667",
      "  [2] ldl_analyze",
      "    @ ~/.julia/packages/LDLFactorizations/9tnAq/src/LDLFactorizations.jl:667 [inlined]",
      "  [3] ldl(A::SparseMatrixCSC{Float64, Int64}, ::Type{Float64}; kwargs::@Kwargs{})",
      "    @ LDLFactorizations ~/.julia/packages/LDLFactorizations/9tnAq/src/LDLFactorizations.jl:763",
      "  [4] ldl",
      "    @ ~/.julia/packages/LDLFactorizations/9tnAq/src/LDLFactorizations.jl:762 [inlined]",
      "  [5] ldl(A::SparseMatrixCSC{Float64, Int64})",
      "    @ LDLFactorizations ~/.julia/packages/LDLFactorizations/9tnAq/src/LDLFactorizations.jl:767",
      "  [6] golub_riley_2(A::SparseMatrixCSC{Float64, Int64}, b::Vector{Float64}, λ::Float64, ϵ::Float64)",
      "    @ Main ./In[55]:8",
      "  [7] golub_riley_2",
      "    @ ./In[55]:2 [inlined]",
      "  [8] var\"##core#778\"(A#721::SparseMatrixCSC{Float64, Int64}, b#722::Vector{Float64})",
      "    @ Main ~/.julia/packages/BenchmarkTools/QNsku/src/execution.jl:561",
      "  [9] var\"##sample#779\"(::Tuple{SparseMatrixCSC{Float64, Int64}, Vector{Float64}}, __params::BenchmarkTools.Parameters)",
      "    @ Main ~/.julia/packages/BenchmarkTools/QNsku/src/execution.jl:570",
      " [10] _run(b::BenchmarkTools.Benchmark, p::BenchmarkTools.Parameters; verbose::Bool, pad::String, warmup::Bool, kwargs::@Kwargs{})",
      "    @ BenchmarkTools ~/.julia/packages/BenchmarkTools/QNsku/src/execution.jl:125",
      " [11] #invokelatest#2",
      "    @ ./essentials.jl:894 [inlined]",
      " [12] invokelatest",
      "    @ ./essentials.jl:889 [inlined]",
      " [13] #run_result#45",
      "    @ ~/.julia/packages/BenchmarkTools/QNsku/src/execution.jl:48 [inlined]",
      " [14] run_result",
      "    @ ~/.julia/packages/BenchmarkTools/QNsku/src/execution.jl:47 [inlined]",
      " [15] macro expansion",
      "    @ ~/.julia/packages/BenchmarkTools/QNsku/src/execution.jl:667 [inlined]",
      " [16] top-level scope",
      "    @ In[57]:11"
     ]
    }
   ],
   "source": [
    "# very2 has no solution in the animal/mls folder so we ignore it.\n",
    "animal_problem = [\"small\", \"small2\", \"medium\", \"medium2\", \"large\", \"large2\", \"very\"]\n",
    "for problem in animal_problem\n",
    "\n",
    "    # Replace \"animal\" by the path of the animal problem folder on your machine.\n",
    "    A, b = get_problem_from_animal(\"animal\", problem)\n",
    "    scale_columns_to_unit_norm!(A)\n",
    "\n",
    "    x = golub_riley_2(A, b)\n",
    "    r = b - A * x\n",
    "    @btime (golub_riley_2($A, $b))\n",
    "    @btime ($A \\ $b)\n",
    "    #median_time = median(@benchmark(golub_riley_2($A, $b)))\n",
    "    #median_time_baseline = median(@benchmark($A \\ $b))\n",
    "    #@show median_time\n",
    "    #@show median_time_baseline\n",
    "\n",
    "    x_reference = get_solution_from_animal(\"animal\", problem)\n",
    "    r_reference = b - A * x_reference\n",
    "\n",
    "    x_relative_error = norm(x - x_reference) / norm(x_reference)\n",
    "    println(x_relative_error)\n",
    "\n",
    "    r_relative_error = norm(r - r_reference) / norm(r_reference)\n",
    "    println(r_relative_error)\n",
    "    println(\"----------\")\n",
    "end"
   ]
  },
  {
   "cell_type": "markdown",
   "id": "b33860b6-3c83-42d6-aedb-12a7da1c5d75",
   "metadata": {},
   "source": [
    "# 14. "
   ]
  },
  {
   "cell_type": "markdown",
   "id": "e5330e4d-04ff-44eb-8ae9-341994dd8854",
   "metadata": {},
   "source": [
    "# 15. "
   ]
  }
 ],
 "metadata": {
  "kernelspec": {
   "display_name": "Julia 1.10.4",
   "language": "julia",
   "name": "julia-1.10"
  },
  "language_info": {
   "file_extension": ".jl",
   "mimetype": "application/julia",
   "name": "julia",
   "version": "1.10.4"
  }
 },
 "nbformat": 4,
 "nbformat_minor": 5
}
